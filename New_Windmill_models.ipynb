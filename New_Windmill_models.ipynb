{
  "nbformat": 4,
  "nbformat_minor": 0,
  "metadata": {
    "colab": {
      "provenance": []
    },
    "kernelspec": {
      "name": "python3",
      "display_name": "Python 3"
    },
    "language_info": {
      "name": "python"
    }
  },
  "cells": [
    {
      "cell_type": "code",
      "execution_count": 1,
      "metadata": {
        "colab": {
          "base_uri": "https://localhost:8080/"
        },
        "id": "8Ti29mqNbCmh",
        "outputId": "9d39366a-07e0-443e-8493-cac9f01f33ca"
      },
      "outputs": [
        {
          "output_type": "stream",
          "name": "stdout",
          "text": [
            "Collecting pyspark\n",
            "  Downloading pyspark-3.5.1.tar.gz (317.0 MB)\n",
            "\u001b[2K     \u001b[90m━━━━━━━━━━━━━━━━━━━━━━━━━━━━━━━━━━━━━━━━\u001b[0m \u001b[32m317.0/317.0 MB\u001b[0m \u001b[31m1.5 MB/s\u001b[0m eta \u001b[36m0:00:00\u001b[0m\n",
            "\u001b[?25h  Preparing metadata (setup.py) ... \u001b[?25l\u001b[?25hdone\n",
            "Requirement already satisfied: py4j==0.10.9.7 in /usr/local/lib/python3.10/dist-packages (from pyspark) (0.10.9.7)\n",
            "Building wheels for collected packages: pyspark\n",
            "  Building wheel for pyspark (setup.py) ... \u001b[?25l\u001b[?25hdone\n",
            "  Created wheel for pyspark: filename=pyspark-3.5.1-py2.py3-none-any.whl size=317488491 sha256=cbbeb685cdb5c78db9193df5165f22b511914e2644d3ad8684ff90446e12dbb5\n",
            "  Stored in directory: /root/.cache/pip/wheels/80/1d/60/2c256ed38dddce2fdd93be545214a63e02fbd8d74fb0b7f3a6\n",
            "Successfully built pyspark\n",
            "Installing collected packages: pyspark\n",
            "Successfully installed pyspark-3.5.1\n"
          ]
        }
      ],
      "source": [
        "!pip install pyspark"
      ]
    },
    {
      "cell_type": "code",
      "source": [
        "from pyspark.sql import SparkSession\n",
        "from pyspark.ml.feature import VectorAssembler\n",
        "from pyspark.ml.regression import LinearRegression, GBTRegressor\n",
        "from pyspark.ml.evaluation import RegressionEvaluator"
      ],
      "metadata": {
        "id": "cIt3zMu-bxFO"
      },
      "execution_count": 2,
      "outputs": []
    },
    {
      "cell_type": "code",
      "source": [
        "# Create a Spark session\n",
        "spark = SparkSession.builder.appName(\"ProjectWindmill\").getOrCreate()\n",
        "#loading dataset\n",
        "data = spark.read.csv(\"/content/sample_data/wind_mill_dataset.csv\", header=True, inferSchema=True)\n",
        "# Display all attributes in the dataset\n",
        "data.printSchema()"
      ],
      "metadata": {
        "colab": {
          "base_uri": "https://localhost:8080/"
        },
        "id": "HrI9uI2Vb0HE",
        "outputId": "f22361ea-a113-4e3c-d1fa-bbe01d3d65a1"
      },
      "execution_count": 7,
      "outputs": [
        {
          "output_type": "stream",
          "name": "stdout",
          "text": [
            "root\n",
            " |-- Air_temperature: double (nullable = true)\n",
            " |-- Pressure: double (nullable = true)\n",
            " |-- Wind_speed: double (nullable = true)\n",
            " |-- Wind_direction: integer (nullable = true)\n",
            " |-- Power_generated: double (nullable = true)\n",
            "\n"
          ]
        }
      ]
    },
    {
      "cell_type": "code",
      "source": [
        "# describing target attribute\n",
        "data.select('Power_generated').describe().show()"
      ],
      "metadata": {
        "colab": {
          "base_uri": "https://localhost:8080/"
        },
        "id": "IM5PCFvncDJa",
        "outputId": "e558b97f-115a-4ddd-b738-720ebe478180"
      },
      "execution_count": 9,
      "outputs": [
        {
          "output_type": "stream",
          "name": "stdout",
          "text": [
            "+-------+-----------------+\n",
            "|summary|  Power_generated|\n",
            "+-------+-----------------+\n",
            "|  count|             2499|\n",
            "|   mean|19881.97538495402|\n",
            "| stddev|17998.58950119579|\n",
            "|    min|              0.0|\n",
            "|    max|          59918.3|\n",
            "+-------+-----------------+\n",
            "\n"
          ]
        }
      ]
    },
    {
      "cell_type": "code",
      "source": [
        "import pandas as pd\n",
        "pd.DataFrame(data.take(5), columns=data.columns)"
      ],
      "metadata": {
        "colab": {
          "base_uri": "https://localhost:8080/",
          "height": 206
        },
        "id": "c2Xdz_X0dgv1",
        "outputId": "bdfc2b01-2b89-4803-9826-55d4e2a94462"
      },
      "execution_count": 10,
      "outputs": [
        {
          "output_type": "execute_result",
          "data": {
            "text/plain": [
              "   Air_temperature  Pressure  Wind_speed  Wind_direction  Power_generated\n",
              "0           10.926  0.979103       9.014             229          33688.1\n",
              "1            9.919  0.979566       9.428             232          37261.9\n",
              "2            8.567  0.979937       8.700             236          30502.9\n",
              "3            7.877  0.980053       8.481             247          28419.2\n",
              "4            7.259  0.979867       8.383             256          27370.3"
            ],
            "text/html": [
              "\n",
              "  <div id=\"df-b69d123f-33fe-4f87-979b-347be4d43c62\" class=\"colab-df-container\">\n",
              "    <div>\n",
              "<style scoped>\n",
              "    .dataframe tbody tr th:only-of-type {\n",
              "        vertical-align: middle;\n",
              "    }\n",
              "\n",
              "    .dataframe tbody tr th {\n",
              "        vertical-align: top;\n",
              "    }\n",
              "\n",
              "    .dataframe thead th {\n",
              "        text-align: right;\n",
              "    }\n",
              "</style>\n",
              "<table border=\"1\" class=\"dataframe\">\n",
              "  <thead>\n",
              "    <tr style=\"text-align: right;\">\n",
              "      <th></th>\n",
              "      <th>Air_temperature</th>\n",
              "      <th>Pressure</th>\n",
              "      <th>Wind_speed</th>\n",
              "      <th>Wind_direction</th>\n",
              "      <th>Power_generated</th>\n",
              "    </tr>\n",
              "  </thead>\n",
              "  <tbody>\n",
              "    <tr>\n",
              "      <th>0</th>\n",
              "      <td>10.926</td>\n",
              "      <td>0.979103</td>\n",
              "      <td>9.014</td>\n",
              "      <td>229</td>\n",
              "      <td>33688.1</td>\n",
              "    </tr>\n",
              "    <tr>\n",
              "      <th>1</th>\n",
              "      <td>9.919</td>\n",
              "      <td>0.979566</td>\n",
              "      <td>9.428</td>\n",
              "      <td>232</td>\n",
              "      <td>37261.9</td>\n",
              "    </tr>\n",
              "    <tr>\n",
              "      <th>2</th>\n",
              "      <td>8.567</td>\n",
              "      <td>0.979937</td>\n",
              "      <td>8.700</td>\n",
              "      <td>236</td>\n",
              "      <td>30502.9</td>\n",
              "    </tr>\n",
              "    <tr>\n",
              "      <th>3</th>\n",
              "      <td>7.877</td>\n",
              "      <td>0.980053</td>\n",
              "      <td>8.481</td>\n",
              "      <td>247</td>\n",
              "      <td>28419.2</td>\n",
              "    </tr>\n",
              "    <tr>\n",
              "      <th>4</th>\n",
              "      <td>7.259</td>\n",
              "      <td>0.979867</td>\n",
              "      <td>8.383</td>\n",
              "      <td>256</td>\n",
              "      <td>27370.3</td>\n",
              "    </tr>\n",
              "  </tbody>\n",
              "</table>\n",
              "</div>\n",
              "    <div class=\"colab-df-buttons\">\n",
              "\n",
              "  <div class=\"colab-df-container\">\n",
              "    <button class=\"colab-df-convert\" onclick=\"convertToInteractive('df-b69d123f-33fe-4f87-979b-347be4d43c62')\"\n",
              "            title=\"Convert this dataframe to an interactive table.\"\n",
              "            style=\"display:none;\">\n",
              "\n",
              "  <svg xmlns=\"http://www.w3.org/2000/svg\" height=\"24px\" viewBox=\"0 -960 960 960\">\n",
              "    <path d=\"M120-120v-720h720v720H120Zm60-500h600v-160H180v160Zm220 220h160v-160H400v160Zm0 220h160v-160H400v160ZM180-400h160v-160H180v160Zm440 0h160v-160H620v160ZM180-180h160v-160H180v160Zm440 0h160v-160H620v160Z\"/>\n",
              "  </svg>\n",
              "    </button>\n",
              "\n",
              "  <style>\n",
              "    .colab-df-container {\n",
              "      display:flex;\n",
              "      gap: 12px;\n",
              "    }\n",
              "\n",
              "    .colab-df-convert {\n",
              "      background-color: #E8F0FE;\n",
              "      border: none;\n",
              "      border-radius: 50%;\n",
              "      cursor: pointer;\n",
              "      display: none;\n",
              "      fill: #1967D2;\n",
              "      height: 32px;\n",
              "      padding: 0 0 0 0;\n",
              "      width: 32px;\n",
              "    }\n",
              "\n",
              "    .colab-df-convert:hover {\n",
              "      background-color: #E2EBFA;\n",
              "      box-shadow: 0px 1px 2px rgba(60, 64, 67, 0.3), 0px 1px 3px 1px rgba(60, 64, 67, 0.15);\n",
              "      fill: #174EA6;\n",
              "    }\n",
              "\n",
              "    .colab-df-buttons div {\n",
              "      margin-bottom: 4px;\n",
              "    }\n",
              "\n",
              "    [theme=dark] .colab-df-convert {\n",
              "      background-color: #3B4455;\n",
              "      fill: #D2E3FC;\n",
              "    }\n",
              "\n",
              "    [theme=dark] .colab-df-convert:hover {\n",
              "      background-color: #434B5C;\n",
              "      box-shadow: 0px 1px 3px 1px rgba(0, 0, 0, 0.15);\n",
              "      filter: drop-shadow(0px 1px 2px rgba(0, 0, 0, 0.3));\n",
              "      fill: #FFFFFF;\n",
              "    }\n",
              "  </style>\n",
              "\n",
              "    <script>\n",
              "      const buttonEl =\n",
              "        document.querySelector('#df-b69d123f-33fe-4f87-979b-347be4d43c62 button.colab-df-convert');\n",
              "      buttonEl.style.display =\n",
              "        google.colab.kernel.accessAllowed ? 'block' : 'none';\n",
              "\n",
              "      async function convertToInteractive(key) {\n",
              "        const element = document.querySelector('#df-b69d123f-33fe-4f87-979b-347be4d43c62');\n",
              "        const dataTable =\n",
              "          await google.colab.kernel.invokeFunction('convertToInteractive',\n",
              "                                                    [key], {});\n",
              "        if (!dataTable) return;\n",
              "\n",
              "        const docLinkHtml = 'Like what you see? Visit the ' +\n",
              "          '<a target=\"_blank\" href=https://colab.research.google.com/notebooks/data_table.ipynb>data table notebook</a>'\n",
              "          + ' to learn more about interactive tables.';\n",
              "        element.innerHTML = '';\n",
              "        dataTable['output_type'] = 'display_data';\n",
              "        await google.colab.output.renderOutput(dataTable, element);\n",
              "        const docLink = document.createElement('div');\n",
              "        docLink.innerHTML = docLinkHtml;\n",
              "        element.appendChild(docLink);\n",
              "      }\n",
              "    </script>\n",
              "  </div>\n",
              "\n",
              "\n",
              "<div id=\"df-6b1d631b-b1b2-47e1-98fa-517b3542b40f\">\n",
              "  <button class=\"colab-df-quickchart\" onclick=\"quickchart('df-6b1d631b-b1b2-47e1-98fa-517b3542b40f')\"\n",
              "            title=\"Suggest charts\"\n",
              "            style=\"display:none;\">\n",
              "\n",
              "<svg xmlns=\"http://www.w3.org/2000/svg\" height=\"24px\"viewBox=\"0 0 24 24\"\n",
              "     width=\"24px\">\n",
              "    <g>\n",
              "        <path d=\"M19 3H5c-1.1 0-2 .9-2 2v14c0 1.1.9 2 2 2h14c1.1 0 2-.9 2-2V5c0-1.1-.9-2-2-2zM9 17H7v-7h2v7zm4 0h-2V7h2v10zm4 0h-2v-4h2v4z\"/>\n",
              "    </g>\n",
              "</svg>\n",
              "  </button>\n",
              "\n",
              "<style>\n",
              "  .colab-df-quickchart {\n",
              "      --bg-color: #E8F0FE;\n",
              "      --fill-color: #1967D2;\n",
              "      --hover-bg-color: #E2EBFA;\n",
              "      --hover-fill-color: #174EA6;\n",
              "      --disabled-fill-color: #AAA;\n",
              "      --disabled-bg-color: #DDD;\n",
              "  }\n",
              "\n",
              "  [theme=dark] .colab-df-quickchart {\n",
              "      --bg-color: #3B4455;\n",
              "      --fill-color: #D2E3FC;\n",
              "      --hover-bg-color: #434B5C;\n",
              "      --hover-fill-color: #FFFFFF;\n",
              "      --disabled-bg-color: #3B4455;\n",
              "      --disabled-fill-color: #666;\n",
              "  }\n",
              "\n",
              "  .colab-df-quickchart {\n",
              "    background-color: var(--bg-color);\n",
              "    border: none;\n",
              "    border-radius: 50%;\n",
              "    cursor: pointer;\n",
              "    display: none;\n",
              "    fill: var(--fill-color);\n",
              "    height: 32px;\n",
              "    padding: 0;\n",
              "    width: 32px;\n",
              "  }\n",
              "\n",
              "  .colab-df-quickchart:hover {\n",
              "    background-color: var(--hover-bg-color);\n",
              "    box-shadow: 0 1px 2px rgba(60, 64, 67, 0.3), 0 1px 3px 1px rgba(60, 64, 67, 0.15);\n",
              "    fill: var(--button-hover-fill-color);\n",
              "  }\n",
              "\n",
              "  .colab-df-quickchart-complete:disabled,\n",
              "  .colab-df-quickchart-complete:disabled:hover {\n",
              "    background-color: var(--disabled-bg-color);\n",
              "    fill: var(--disabled-fill-color);\n",
              "    box-shadow: none;\n",
              "  }\n",
              "\n",
              "  .colab-df-spinner {\n",
              "    border: 2px solid var(--fill-color);\n",
              "    border-color: transparent;\n",
              "    border-bottom-color: var(--fill-color);\n",
              "    animation:\n",
              "      spin 1s steps(1) infinite;\n",
              "  }\n",
              "\n",
              "  @keyframes spin {\n",
              "    0% {\n",
              "      border-color: transparent;\n",
              "      border-bottom-color: var(--fill-color);\n",
              "      border-left-color: var(--fill-color);\n",
              "    }\n",
              "    20% {\n",
              "      border-color: transparent;\n",
              "      border-left-color: var(--fill-color);\n",
              "      border-top-color: var(--fill-color);\n",
              "    }\n",
              "    30% {\n",
              "      border-color: transparent;\n",
              "      border-left-color: var(--fill-color);\n",
              "      border-top-color: var(--fill-color);\n",
              "      border-right-color: var(--fill-color);\n",
              "    }\n",
              "    40% {\n",
              "      border-color: transparent;\n",
              "      border-right-color: var(--fill-color);\n",
              "      border-top-color: var(--fill-color);\n",
              "    }\n",
              "    60% {\n",
              "      border-color: transparent;\n",
              "      border-right-color: var(--fill-color);\n",
              "    }\n",
              "    80% {\n",
              "      border-color: transparent;\n",
              "      border-right-color: var(--fill-color);\n",
              "      border-bottom-color: var(--fill-color);\n",
              "    }\n",
              "    90% {\n",
              "      border-color: transparent;\n",
              "      border-bottom-color: var(--fill-color);\n",
              "    }\n",
              "  }\n",
              "</style>\n",
              "\n",
              "  <script>\n",
              "    async function quickchart(key) {\n",
              "      const quickchartButtonEl =\n",
              "        document.querySelector('#' + key + ' button');\n",
              "      quickchartButtonEl.disabled = true;  // To prevent multiple clicks.\n",
              "      quickchartButtonEl.classList.add('colab-df-spinner');\n",
              "      try {\n",
              "        const charts = await google.colab.kernel.invokeFunction(\n",
              "            'suggestCharts', [key], {});\n",
              "      } catch (error) {\n",
              "        console.error('Error during call to suggestCharts:', error);\n",
              "      }\n",
              "      quickchartButtonEl.classList.remove('colab-df-spinner');\n",
              "      quickchartButtonEl.classList.add('colab-df-quickchart-complete');\n",
              "    }\n",
              "    (() => {\n",
              "      let quickchartButtonEl =\n",
              "        document.querySelector('#df-6b1d631b-b1b2-47e1-98fa-517b3542b40f button');\n",
              "      quickchartButtonEl.style.display =\n",
              "        google.colab.kernel.accessAllowed ? 'block' : 'none';\n",
              "    })();\n",
              "  </script>\n",
              "</div>\n",
              "\n",
              "    </div>\n",
              "  </div>\n"
            ],
            "application/vnd.google.colaboratory.intrinsic+json": {
              "type": "dataframe",
              "summary": "{\n  \"name\": \"pd\",\n  \"rows\": 5,\n  \"fields\": [\n    {\n      \"column\": \"Air_temperature\",\n      \"properties\": {\n        \"dtype\": \"number\",\n        \"std\": 1.4994061491137083,\n        \"min\": 7.259,\n        \"max\": 10.926,\n        \"num_unique_values\": 5,\n        \"samples\": [\n          9.919,\n          7.259,\n          8.567\n        ],\n        \"semantic_type\": \"\",\n        \"description\": \"\"\n      }\n    },\n    {\n      \"column\": \"Pressure\",\n      \"properties\": {\n        \"dtype\": \"number\",\n        \"std\": 0.0003817383920959511,\n        \"min\": 0.979103,\n        \"max\": 0.980053,\n        \"num_unique_values\": 5,\n        \"samples\": [\n          0.979566,\n          0.979867,\n          0.979937\n        ],\n        \"semantic_type\": \"\",\n        \"description\": \"\"\n      }\n    },\n    {\n      \"column\": \"Wind_speed\",\n      \"properties\": {\n        \"dtype\": \"number\",\n        \"std\": 0.4259761730425781,\n        \"min\": 8.383,\n        \"max\": 9.428,\n        \"num_unique_values\": 5,\n        \"samples\": [\n          9.428,\n          8.383,\n          8.7\n        ],\n        \"semantic_type\": \"\",\n        \"description\": \"\"\n      }\n    },\n    {\n      \"column\": \"Wind_direction\",\n      \"properties\": {\n        \"dtype\": \"number\",\n        \"std\": 11,\n        \"min\": 229,\n        \"max\": 256,\n        \"num_unique_values\": 5,\n        \"samples\": [\n          232,\n          256,\n          236\n        ],\n        \"semantic_type\": \"\",\n        \"description\": \"\"\n      }\n    },\n    {\n      \"column\": \"Power_generated\",\n      \"properties\": {\n        \"dtype\": \"number\",\n        \"std\": 4047.034741882012,\n        \"min\": 27370.3,\n        \"max\": 37261.9,\n        \"num_unique_values\": 5,\n        \"samples\": [\n          37261.9,\n          27370.3,\n          30502.9\n        ],\n        \"semantic_type\": \"\",\n        \"description\": \"\"\n      }\n    }\n  ]\n}"
            }
          },
          "metadata": {},
          "execution_count": 10
        }
      ]
    },
    {
      "cell_type": "code",
      "source": [
        "from pyspark.ml.feature import VectorAssembler, OneHotEncoder, StringIndexer\n",
        "#indexers = [StringIndexer(inputCol=column, outputCol=column+\"_index\", handleInvalid=\"keep\") for column in [ \"Status\"]]\n",
        "#encoder = [OneHotEncoder(inputCols=[column+\"_index\"], outputCols=[column+\"_encoded\"]) for column in [ \"Status\"]]\n",
        "#indexers_and_encoders = indexers + encoder\n",
        "#indexer_model = [indexer.fit(data) for indexer in indexers]\n",
        "encoded_data = data\n",
        "#for i in range(len(indexers)):\n",
        " #   encoded_data = indexer_model[i].transform(encoded_data)\n",
        "print(encoded_data)"
      ],
      "metadata": {
        "colab": {
          "base_uri": "https://localhost:8080/"
        },
        "id": "3VtNfQm0djqK",
        "outputId": "3d89bbd5-ec6f-485a-a272-bd17968ba7df"
      },
      "execution_count": 11,
      "outputs": [
        {
          "output_type": "stream",
          "name": "stdout",
          "text": [
            "DataFrame[Air_temperature: double, Pressure: double, Wind_speed: double, Wind_direction: int, Power_generated: double]\n"
          ]
        }
      ]
    },
    {
      "cell_type": "code",
      "source": [
        "# Assemble features\n",
        "feature_columns = encoded_data.columns\n",
        "print(feature_columns)\n",
        "feature_columns.remove(\"Power_generated\")\n",
        "print(feature_columns)\n",
        "assembler = VectorAssembler(inputCols=feature_columns, outputCol=\"features\")\n",
        "print(assembler)\n",
        "assembled_data = assembler.transform(encoded_data)\n",
        "print(assembled_data)\n",
        "assembled_data.show()"
      ],
      "metadata": {
        "colab": {
          "base_uri": "https://localhost:8080/"
        },
        "id": "VHBF-Bccd8jU",
        "outputId": "f24e6a1f-3a5a-415d-8ccc-70f8ca58af1b"
      },
      "execution_count": 12,
      "outputs": [
        {
          "output_type": "stream",
          "name": "stdout",
          "text": [
            "['Air_temperature', 'Pressure', 'Wind_speed', 'Wind_direction', 'Power_generated']\n",
            "['Air_temperature', 'Pressure', 'Wind_speed', 'Wind_direction']\n",
            "VectorAssembler_5cd4d384fb30\n",
            "DataFrame[Air_temperature: double, Pressure: double, Wind_speed: double, Wind_direction: int, Power_generated: double, features: vector]\n",
            "+---------------+--------+----------+--------------+---------------+--------------------+\n",
            "|Air_temperature|Pressure|Wind_speed|Wind_direction|Power_generated|            features|\n",
            "+---------------+--------+----------+--------------+---------------+--------------------+\n",
            "|         10.926|0.979103|     9.014|           229|        33688.1|[10.926,0.979103,...|\n",
            "|          9.919|0.979566|     9.428|           232|        37261.9|[9.919,0.979566,9...|\n",
            "|          8.567|0.979937|       8.7|           236|        30502.9|[8.567,0.979937,8...|\n",
            "|          7.877|0.980053|     8.481|           247|        28419.2|[7.877,0.980053,8...|\n",
            "|          7.259|0.979867|     8.383|           256|        27370.3|[7.259,0.979867,8...|\n",
            "|           6.57|0.979884|     8.256|           261|        25805.9|[6.57,0.979884,8....|\n",
            "|          5.897|0.980318|     6.476|           265|        11546.8|[5.897,0.980318,6...|\n",
            "|          5.109|0.980597|     5.906|           271|        8360.76|[5.109,0.980597,5...|\n",
            "|          4.413|0.980711|     5.557|           269|        6426.64|[4.413,0.980711,5...|\n",
            "|          3.754|0.980902|     6.081|           273|        9349.45|[3.754,0.980902,6...|\n",
            "|          3.169|0.981166|     7.384|           278|        18613.6|[3.169,0.981166,7...|\n",
            "|          2.637|0.981347|     9.072|           293|        35381.1|[2.637,0.981347,9...|\n",
            "|          1.948|0.981703|     7.142|           295|        17331.5|[1.948,0.981703,7...|\n",
            "|          2.296|0.982196|     7.451|           299|        19872.3|[2.296,0.982196,7...|\n",
            "|          4.042|0.982576|     5.764|           289|        8190.46|[4.042,0.982576,5...|\n",
            "|          5.504|0.982961|     5.887|           287|         8731.8|[5.504,0.982961,5...|\n",
            "|          6.217|0.983083|     5.866|           285|        8578.77|[6.217,0.983083,5...|\n",
            "|           6.74|0.983409|     6.266|           287|        11030.0|[6.74,0.983409,6....|\n",
            "|           7.25|0.983824|     6.278|           291|        11088.4|[7.25,0.983824,6....|\n",
            "|          7.579|0.984266|     6.311|           293|        11220.2|[7.579,0.984266,6...|\n",
            "+---------------+--------+----------+--------------+---------------+--------------------+\n",
            "only showing top 20 rows\n",
            "\n"
          ]
        }
      ]
    },
    {
      "cell_type": "code",
      "source": [
        "assembled_data.show(5)\n",
        "display(feature_columns)"
      ],
      "metadata": {
        "colab": {
          "base_uri": "https://localhost:8080/",
          "height": 244
        },
        "id": "axnJ09vYeIL-",
        "outputId": "8e99cf45-8fa7-4c85-b12a-c8f516d2a77a"
      },
      "execution_count": 13,
      "outputs": [
        {
          "output_type": "stream",
          "name": "stdout",
          "text": [
            "+---------------+--------+----------+--------------+---------------+--------------------+\n",
            "|Air_temperature|Pressure|Wind_speed|Wind_direction|Power_generated|            features|\n",
            "+---------------+--------+----------+--------------+---------------+--------------------+\n",
            "|         10.926|0.979103|     9.014|           229|        33688.1|[10.926,0.979103,...|\n",
            "|          9.919|0.979566|     9.428|           232|        37261.9|[9.919,0.979566,9...|\n",
            "|          8.567|0.979937|       8.7|           236|        30502.9|[8.567,0.979937,8...|\n",
            "|          7.877|0.980053|     8.481|           247|        28419.2|[7.877,0.980053,8...|\n",
            "|          7.259|0.979867|     8.383|           256|        27370.3|[7.259,0.979867,8...|\n",
            "+---------------+--------+----------+--------------+---------------+--------------------+\n",
            "only showing top 5 rows\n",
            "\n"
          ]
        },
        {
          "output_type": "display_data",
          "data": {
            "text/plain": [
              "['Air_temperature', 'Pressure', 'Wind_speed', 'Wind_direction']"
            ]
          },
          "metadata": {}
        }
      ]
    },
    {
      "cell_type": "code",
      "source": [
        "train_data, test_data = assembled_data.randomSplit([0.7, 0.3], seed=125)\n",
        "# Hypothetical data for the pie chart\n",
        "train_power_predection= train_data.select(\"Power_generated\").rdd.flatMap(lambda x: x).collect()\n",
        "test_power_predection = test_data.select(\"Power_generated\").rdd.flatMap(lambda x: x).collect()\n",
        "labels = ['Training Data', 'Test Data']\n",
        "sizes = [sum(train_power_predection), sum(test_power_predection )]\n",
        "explode = (0.1, 0)  # Explode the first slice (Training Data)"
      ],
      "metadata": {
        "id": "zYS7EoByePGb"
      },
      "execution_count": 30,
      "outputs": []
    },
    {
      "cell_type": "code",
      "source": [
        "from pyspark.ml.regression import DecisionTreeRegressor\n",
        "dt = DecisionTreeRegressor(featuresCol ='features', labelCol = 'Power_generated', maxBins=180)\n",
        "dt_model = dt.fit(train_data)\n",
        "dt_predictions = dt_model.transform(test_data)\n",
        "dt_results=dt_predictions.select(\"Power_generated\",\"prediction\")\n",
        "dt_results.show(5)"
      ],
      "metadata": {
        "colab": {
          "base_uri": "https://localhost:8080/"
        },
        "id": "reQ1visEhsoz",
        "outputId": "0d77243d-3e80-4225-eed6-08f53fae0b9e"
      },
      "execution_count": 31,
      "outputs": [
        {
          "output_type": "stream",
          "name": "stdout",
          "text": [
            "+---------------+------------------+\n",
            "|Power_generated|        prediction|\n",
            "+---------------+------------------+\n",
            "|        2550.07|2520.2361016949158|\n",
            "|        6455.35| 6512.504745762712|\n",
            "|        6819.52| 6512.504745762712|\n",
            "|        8873.32|           8201.24|\n",
            "|        12727.9|11743.892929292928|\n",
            "+---------------+------------------+\n",
            "only showing top 5 rows\n",
            "\n"
          ]
        }
      ]
    },
    {
      "cell_type": "code",
      "source": [
        "evaluator = RegressionEvaluator(labelCol=\"Power_generated\", predictionCol=\"prediction\", metricName=\"rmse\")\n",
        "rmse3 = evaluator.evaluate(dt_predictions)\n",
        "print(\"Root-mean-square error = \" + str(rmse3))\n",
        "\n",
        "evaluator = RegressionEvaluator(labelCol=\"Power_generated\", predictionCol=\"prediction\", metricName=\"r2\")\n",
        "r23 = evaluator.evaluate(dt_predictions)\n",
        "print(\"R-squared = \" + str(r23))"
      ],
      "metadata": {
        "colab": {
          "base_uri": "https://localhost:8080/"
        },
        "id": "25czOVHph7dx",
        "outputId": "d7986d99-8d18-4a3d-826c-d7eed21ce8ab"
      },
      "execution_count": 32,
      "outputs": [
        {
          "output_type": "stream",
          "name": "stdout",
          "text": [
            "Root-mean-square error = 1016.0111463131537\n",
            "R-squared = 0.9969883325258467\n"
          ]
        }
      ]
    },
    {
      "cell_type": "code",
      "source": [
        "input_at=input(\"Enter the Air Temperature: \")\n",
        "input_p=input(\"Enter the Preassure: \")\n",
        "input_ws=input(\"Enter the windspeed: \")\n",
        "input_wd=input(\"Enter the wind direction: \")\n",
        "Air_temperature=float(input_at)\n",
        "Pressure=float(input_p)\n",
        "Wind_speed=float(input_ws)\n",
        "Wind_direction=float(input_wd)\n",
        "spark.createDataFrame(new_data,[input_at,input_p,input_ws,input_wd])\n",
        "new_data_df=assembler.transform(new_data)\n",
        "new_prediction=dt_model.transform(new_data_df)\n",
        "\n",
        "prediction=new_prediction.select(\"prediction\").collect()[0][\"prediction\"]\n",
        "print(\"Power Generation is: \",prediction)"
      ],
      "metadata": {
        "colab": {
          "base_uri": "https://localhost:8080/",
          "height": 459
        },
        "id": "LHB5dPOvirKl",
        "outputId": "47ffc299-b091-4d94-e35a-f7261bd20a21"
      },
      "execution_count": 34,
      "outputs": [
        {
          "name": "stdout",
          "output_type": "stream",
          "text": [
            "Enter the Air Temperature: 10.926\n",
            "Enter the Preassure: 0.9726\n",
            "Enter the windspeed: 9.014\n",
            "Enter the wind direction: 229\n"
          ]
        },
        {
          "output_type": "error",
          "ename": "AttributeError",
          "evalue": "'list' object has no attribute '_jdf'",
          "traceback": [
            "\u001b[0;31m---------------------------------------------------------------------------\u001b[0m",
            "\u001b[0;31mAttributeError\u001b[0m                            Traceback (most recent call last)",
            "\u001b[0;32m<ipython-input-34-d5be0388721d>\u001b[0m in \u001b[0;36m<cell line: 10>\u001b[0;34m()\u001b[0m\n\u001b[1;32m      8\u001b[0m \u001b[0mWind_direction\u001b[0m\u001b[0;34m=\u001b[0m\u001b[0mfloat\u001b[0m\u001b[0;34m(\u001b[0m\u001b[0minput_wd\u001b[0m\u001b[0;34m)\u001b[0m\u001b[0;34m\u001b[0m\u001b[0;34m\u001b[0m\u001b[0m\n\u001b[1;32m      9\u001b[0m \u001b[0mspark\u001b[0m\u001b[0;34m.\u001b[0m\u001b[0mcreateDataFrame\u001b[0m\u001b[0;34m(\u001b[0m\u001b[0mnew_data\u001b[0m\u001b[0;34m,\u001b[0m\u001b[0;34m[\u001b[0m\u001b[0minput_at\u001b[0m\u001b[0;34m,\u001b[0m\u001b[0minput_p\u001b[0m\u001b[0;34m,\u001b[0m\u001b[0minput_ws\u001b[0m\u001b[0;34m,\u001b[0m\u001b[0minput_wd\u001b[0m\u001b[0;34m]\u001b[0m\u001b[0;34m)\u001b[0m\u001b[0;34m\u001b[0m\u001b[0;34m\u001b[0m\u001b[0m\n\u001b[0;32m---> 10\u001b[0;31m \u001b[0mnew_data_df\u001b[0m\u001b[0;34m=\u001b[0m\u001b[0massembler\u001b[0m\u001b[0;34m.\u001b[0m\u001b[0mtransform\u001b[0m\u001b[0;34m(\u001b[0m\u001b[0mnew_data\u001b[0m\u001b[0;34m)\u001b[0m\u001b[0;34m\u001b[0m\u001b[0;34m\u001b[0m\u001b[0m\n\u001b[0m\u001b[1;32m     11\u001b[0m \u001b[0mnew_prediction\u001b[0m\u001b[0;34m=\u001b[0m\u001b[0mdt_model\u001b[0m\u001b[0;34m.\u001b[0m\u001b[0mtransform\u001b[0m\u001b[0;34m(\u001b[0m\u001b[0mnew_data_df\u001b[0m\u001b[0;34m)\u001b[0m\u001b[0;34m\u001b[0m\u001b[0;34m\u001b[0m\u001b[0m\n\u001b[1;32m     12\u001b[0m \u001b[0;34m\u001b[0m\u001b[0m\n",
            "\u001b[0;32m/usr/local/lib/python3.10/dist-packages/pyspark/ml/base.py\u001b[0m in \u001b[0;36mtransform\u001b[0;34m(self, dataset, params)\u001b[0m\n\u001b[1;32m    260\u001b[0m                 \u001b[0;32mreturn\u001b[0m \u001b[0mself\u001b[0m\u001b[0;34m.\u001b[0m\u001b[0mcopy\u001b[0m\u001b[0;34m(\u001b[0m\u001b[0mparams\u001b[0m\u001b[0;34m)\u001b[0m\u001b[0;34m.\u001b[0m\u001b[0m_transform\u001b[0m\u001b[0;34m(\u001b[0m\u001b[0mdataset\u001b[0m\u001b[0;34m)\u001b[0m\u001b[0;34m\u001b[0m\u001b[0;34m\u001b[0m\u001b[0m\n\u001b[1;32m    261\u001b[0m             \u001b[0;32melse\u001b[0m\u001b[0;34m:\u001b[0m\u001b[0;34m\u001b[0m\u001b[0;34m\u001b[0m\u001b[0m\n\u001b[0;32m--> 262\u001b[0;31m                 \u001b[0;32mreturn\u001b[0m \u001b[0mself\u001b[0m\u001b[0;34m.\u001b[0m\u001b[0m_transform\u001b[0m\u001b[0;34m(\u001b[0m\u001b[0mdataset\u001b[0m\u001b[0;34m)\u001b[0m\u001b[0;34m\u001b[0m\u001b[0;34m\u001b[0m\u001b[0m\n\u001b[0m\u001b[1;32m    263\u001b[0m         \u001b[0;32melse\u001b[0m\u001b[0;34m:\u001b[0m\u001b[0;34m\u001b[0m\u001b[0;34m\u001b[0m\u001b[0m\n\u001b[1;32m    264\u001b[0m             \u001b[0;32mraise\u001b[0m \u001b[0mTypeError\u001b[0m\u001b[0;34m(\u001b[0m\u001b[0;34m\"Params must be a param map but got %s.\"\u001b[0m \u001b[0;34m%\u001b[0m \u001b[0mtype\u001b[0m\u001b[0;34m(\u001b[0m\u001b[0mparams\u001b[0m\u001b[0;34m)\u001b[0m\u001b[0;34m)\u001b[0m\u001b[0;34m\u001b[0m\u001b[0;34m\u001b[0m\u001b[0m\n",
            "\u001b[0;32m/usr/local/lib/python3.10/dist-packages/pyspark/ml/wrapper.py\u001b[0m in \u001b[0;36m_transform\u001b[0;34m(self, dataset)\u001b[0m\n\u001b[1;32m    396\u001b[0m \u001b[0;34m\u001b[0m\u001b[0m\n\u001b[1;32m    397\u001b[0m         \u001b[0mself\u001b[0m\u001b[0;34m.\u001b[0m\u001b[0m_transfer_params_to_java\u001b[0m\u001b[0;34m(\u001b[0m\u001b[0;34m)\u001b[0m\u001b[0;34m\u001b[0m\u001b[0;34m\u001b[0m\u001b[0m\n\u001b[0;32m--> 398\u001b[0;31m         \u001b[0;32mreturn\u001b[0m \u001b[0mDataFrame\u001b[0m\u001b[0;34m(\u001b[0m\u001b[0mself\u001b[0m\u001b[0;34m.\u001b[0m\u001b[0m_java_obj\u001b[0m\u001b[0;34m.\u001b[0m\u001b[0mtransform\u001b[0m\u001b[0;34m(\u001b[0m\u001b[0mdataset\u001b[0m\u001b[0;34m.\u001b[0m\u001b[0m_jdf\u001b[0m\u001b[0;34m)\u001b[0m\u001b[0;34m,\u001b[0m \u001b[0mdataset\u001b[0m\u001b[0;34m.\u001b[0m\u001b[0msparkSession\u001b[0m\u001b[0;34m)\u001b[0m\u001b[0;34m\u001b[0m\u001b[0;34m\u001b[0m\u001b[0m\n\u001b[0m\u001b[1;32m    399\u001b[0m \u001b[0;34m\u001b[0m\u001b[0m\n\u001b[1;32m    400\u001b[0m \u001b[0;34m\u001b[0m\u001b[0m\n",
            "\u001b[0;31mAttributeError\u001b[0m: 'list' object has no attribute '_jdf'"
          ]
        }
      ]
    },
    {
      "cell_type": "code",
      "source": [
        "input_at = input(\"Enter the Air Temperature: \")\n",
        "input_p = input(\"Enter the Preassure: \")\n",
        "input_ws = input(\"Enter the windspeed: \")\n",
        "input_wd = input(\"Enter the wind direction: \")\n",
        "\n",
        "Air_temperature = float(input_at)\n",
        "Pressure = float(input_p)\n",
        "Wind_speed = float(input_ws)\n",
        "Wind_direction = float(input_wd)\n",
        "\n",
        "new_data = [[Air_temperature, Pressure, Wind_speed, Wind_direction]]\n",
        "\n",
        "new_data_df = spark.createDataFrame(new_data, [\"Air_temperature\", \"Pressure\", \"Wind_speed\", \"Wind_direction\"])\n",
        "\n",
        "assembler = VectorAssembler(inputCols=[\"Air_temperature\", \"Pressure\", \"Wind_speed\", \"Wind_direction\"], outputCol=\"features\")\n",
        "new_data_df = assembler.transform(new_data_df)\n",
        "\n",
        "new_prediction = dt_model.transform(new_data_df)\n",
        "\n",
        "prediction = new_prediction.select(\"prediction\").collect()[0][\"prediction\"]\n",
        "\n",
        "print(\"Power Generation is:\", prediction)\n"
      ],
      "metadata": {
        "colab": {
          "base_uri": "https://localhost:8080/"
        },
        "id": "Zu_w9h94tyIs",
        "outputId": "de569564-ffa5-42f0-f30c-fe96fcd1adf0"
      },
      "execution_count": 35,
      "outputs": [
        {
          "output_type": "stream",
          "name": "stdout",
          "text": [
            "Enter the Air Temperature: 10.926\n",
            "Enter the Preassure: 0.979103\n",
            "Enter the windspeed: 9.014\n",
            "Enter the wind direction: 229\n",
            "Power Generation is: 33720.25714285715\n"
          ]
        }
      ]
    }
  ]
}